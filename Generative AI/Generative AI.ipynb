{
 "cells": [
  {
   "cell_type": "markdown",
   "id": "de7ae3c0-145d-4f75-bd7b-72a405b05023",
   "metadata": {},
   "source": [
    "# Phase 4: Generative AI"
   ]
  },
  {
   "cell_type": "markdown",
   "id": "9ee99bcf-526e-4ff9-8019-9c0a44ad1c8e",
   "metadata": {},
   "source": [
    "<div style=\"font-family: 'Times New Roman', Times, serif; font-size: 18px;\">\n",
    "In this phase, we integrate Generative AI into our Job Recommendadtion System. This AI integration will improve the Job Recommendadtion System by providing comparative and actionable templates. The comparative template will provide comparisions between recommended job titles while the actionable template will provide step-by-step guide how to pursue these job titled. We will use the LLAMA Generative AI model to implement these templates and improve our job recommendadtion system.\n",
    "</div>"
   ]
  },
  {
   "cell_type": "markdown",
   "id": "313a6cb4-a829-4c69-8f47-576ecc6c2ec3",
   "metadata": {},
   "source": [
    "## Load libraries"
   ]
  },
  {
   "cell_type": "code",
   "execution_count": 1,
   "id": "96a9676c-d374-4a7c-9f81-0a8f9185f04e",
   "metadata": {},
   "outputs": [],
   "source": [
    "import pandas as pd\n",
    "import numpy as np\n",
    "import pickle\n",
    "import os\n",
    "from groq import Groq\n",
    "import warnings\n",
    "warnings.filterwarnings(\"ignore\")"
   ]
  },
  {
   "cell_type": "markdown",
   "id": "d67f582d-3c5c-41a3-aaa3-9a299e816ca8",
   "metadata": {},
   "source": [
    "## Load datasets and models"
   ]
  },
  {
   "cell_type": "code",
   "execution_count": 2,
   "id": "0c0e0bf7-2773-46f0-8c24-5e7f3390a363",
   "metadata": {},
   "outputs": [],
   "source": [
    "# read datasets \n",
    "# read transformed dataset to get sample input data from it.\n",
    "transformed_df = pd.read_csv('Dataset/transformed_job_dataset.csv')\n",
    "\n",
    "# read groupd_data to get similar job titles to current input data\n",
    "grouped_data = pd.read_csv('Dataset/grouped_data.csv')\n",
    "\n",
    "# read k-means model to find similar job titles\n",
    "KmeansModel = pickle.load(open('KmeansModel.sav', 'rb')) "
   ]
  },
  {
   "cell_type": "markdown",
   "id": "a7c9e4dd-2d8c-48f9-beed-ef82b378c956",
   "metadata": {},
   "source": [
    "## Get example input data"
   ]
  },
  {
   "cell_type": "code",
   "execution_count": 3,
   "id": "b140f7ec-f7f9-498d-aba8-205457d736f0",
   "metadata": {},
   "outputs": [],
   "source": [
    "# features\n",
    "features = transformed_df.drop(['job_title'], axis = 1)\n",
    "\n",
    "# sample input data\n",
    "input_data = features.iloc[550,:]"
   ]
  },
  {
   "cell_type": "markdown",
   "id": "56f2aded-ad48-41e7-a0e1-e89516008874",
   "metadata": {},
   "source": [
    "## Find Job Title Cluster"
   ]
  },
  {
   "cell_type": "code",
   "execution_count": 4,
   "id": "e0fa2eec-fd36-40de-8d08-ea9e7d433fbe",
   "metadata": {},
   "outputs": [],
   "source": [
    "# find cluster of the current input data\n",
    "pred = KmeansModel.predict(np.array(input_data).reshape(1, -1))\n",
    "predicted_cluster = pred[0] "
   ]
  },
  {
   "cell_type": "markdown",
   "id": "5e101466-0e22-48ca-8fd3-83997af25572",
   "metadata": {},
   "source": [
    "# Make Recommendations"
   ]
  },
  {
   "cell_type": "code",
   "execution_count": 5,
   "id": "2f124e50-ff2b-45df-a553-34f7865cc740",
   "metadata": {},
   "outputs": [],
   "source": [
    "# Retrieve job titles in the same cluster\n",
    "job_titles = grouped_data[grouped_data['group_labels'] == predicted_cluster]\n",
    "top_job_titles = job_titles['job_title'].value_counts().head(3).index.tolist()"
   ]
  },
  {
   "cell_type": "code",
   "execution_count": 6,
   "id": "59e28076-12f9-46c3-ae7f-3b04e84e3d75",
   "metadata": {},
   "outputs": [
    {
     "name": "stdout",
     "output_type": "stream",
     "text": [
      "We recommend the following Job Titles: \n",
      "sales manager\n",
      "salesperson\n",
      "seasonal sales associate\n"
     ]
    }
   ],
   "source": [
    "print('We recommend the following Job Titles: ')\n",
    "for job_title in top_job_titles:\n",
    "    print(job_title)"
   ]
  },
  {
   "cell_type": "markdown",
   "id": "31e262e9-77fa-4db5-aa54-e852fb6c3eae",
   "metadata": {},
   "source": [
    "# Generative AI Integration "
   ]
  },
  {
   "cell_type": "markdown",
   "id": "24aeb995-f8ab-4124-b59a-a19097c7e901",
   "metadata": {},
   "source": [
    "## Load libraries"
   ]
  },
  {
   "cell_type": "markdown",
   "id": "44799434-2e9a-4dcc-b0c1-77bf93f17f4a",
   "metadata": {},
   "source": [
    "## API Key"
   ]
  },
  {
   "cell_type": "code",
   "execution_count": 7,
   "id": "888860cb-f99b-4adb-aa58-d7e42ff09f09",
   "metadata": {},
   "outputs": [],
   "source": [
    "os.environ[\"GROQ_API_KEY\"] = \"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\""
   ]
  },
  {
   "cell_type": "markdown",
   "id": "8d3f4aa9-f2fc-423a-8c81-52ec91e196b9",
   "metadata": {},
   "source": [
    "# Comparative Template"
   ]
  },
  {
   "cell_type": "code",
   "execution_count": 8,
   "id": "f5098ba1-b767-4b8c-a395-480b89ee9bb5",
   "metadata": {},
   "outputs": [],
   "source": [
    "def recommendation_comparative(cluster, job_titles):  \n",
    "    top_job_titles = job_titles['job_title'].value_counts().head(3).index.tolist()\n",
    "        \n",
    "    gen_ai_prompt = f\"\"\"\n",
    "    You are an AI Job Recommendation assistant. Based on the user's skills and cluster {cluster}, here is a comparison of their profile with the recommended job titles:\n",
    "\n",
    "    - Recommended Job Titles: {', '.join(top_job_titles)}\n",
    "\n",
    "    Comparison:\n",
    "    1. **Skill Alignment**: These roles align with your current skills in [specific skills].\n",
    "    2. **Growth Opportunities**: These titles offer opportunities to develop [specific new skills].\n",
    "    3. **Industry Trends**: These roles are in high demand in [specific industries].\n",
    "\n",
    "    This comparison will help you make an informed decision about your career path.\n",
    "    \"\"\"\n",
    "    \n",
    "    # Use LLAMA Gen AI \n",
    "    gen_ai_model = Groq(api_key=os.environ.get(\"GROQ_API_KEY\"), )\n",
    "\n",
    "    output = gen_ai_model.chat.completions.create(\n",
    "        model=\"llama-3.1-8b-instant\",\n",
    "        messages=[{\"role\": \"system\", \"content\": \"You are a job recommendation assistant.\"},\n",
    "                  {\"role\": \"user\", \"content\": gen_ai_prompt}],\n",
    "        temperature=1.25,\n",
    "        max_tokens=1500\n",
    "    )\n",
    "           \n",
    "    return output.choices[0].message.content"
   ]
  },
  {
   "cell_type": "markdown",
   "id": "613e250d-e8fc-4b46-a179-debc530eb377",
   "metadata": {},
   "source": [
    "# Actionable Template"
   ]
  },
  {
   "cell_type": "code",
   "execution_count": 9,
   "id": "8c7d1ca1-345b-468e-a331-2573667b3544",
   "metadata": {},
   "outputs": [],
   "source": [
    "def recommendation_actionable(cluster, job_titles):  \n",
    "    top_job_titles = job_titles['job_title'].value_counts().head(3).index.tolist()\n",
    "        \n",
    "    gen_ai_prompt = f\"\"\"\n",
    "    You are an AI Job Recommendation assistant. Based on your skills and cluster {cluster}, here are the recommended job titles and actionable steps to pursue them:\n",
    "\n",
    "    - Recommended Job Titles: {', '.join(top_job_titles)}\n",
    "\n",
    "    Actionable Steps:\n",
    "    1. **Upskill**: Consider learning [specific skills] to better align with these roles.\n",
    "    2. **Network**: Connect with professionals in [specific industries] on platforms like LinkedIn.\n",
    "    3. **Tailor Your Resume**: Highlight your experience in [specific areas] to stand out for these roles.\n",
    "    4. **Apply Strategically**: Focus on companies like [specific companies] that value your skill set.\n",
    "\n",
    "    Follow these steps to increase your chances of landing your desired role.\n",
    "    \"\"\"\n",
    "    \n",
    "    # Create the Groq client\n",
    "    gen_ai_model = Groq(api_key=os.environ.get(\"GROQ_API_KEY\"), )\n",
    "\n",
    "    output = gen_ai_model.chat.completions.create(\n",
    "        model=\"llama-3.1-8b-instant\",\n",
    "        messages=[{\"role\": \"system\", \"content\": \"You are a job recommendation assistant.\"},\n",
    "                  {\"role\": \"user\", \"content\": gen_ai_prompt}],\n",
    "        temperature=1,\n",
    "        max_tokens=1024\n",
    "    )\n",
    "           \n",
    "    return output.choices[0].message.content"
   ]
  },
  {
   "cell_type": "markdown",
   "id": "e91d0bda-3ca8-487e-84a1-18706e0bb763",
   "metadata": {},
   "source": [
    "### Comparative Recommendation"
   ]
  },
  {
   "cell_type": "code",
   "execution_count": 10,
   "id": "c61beaf5-b7f6-440b-9861-beaf885436bd",
   "metadata": {},
   "outputs": [
    {
     "name": "stdout",
     "output_type": "stream",
     "text": [
      "--- Comparative Recommendation ---\n",
      "To assist you in making an informed decision, I'll help analyze your skills in relation to job roles in cluster 1 (sales-related positions). \n",
      "\n",
      "Based on the provided comparison categories, here's an assessment of the recommended job titles against your profile (we will work on creating a simple example):\n",
      "\n",
      "Let's assume you have the following skills:\n",
      "1. Verbal/Written Communication Skills\n",
      "2. Negotiation/ Persuasion \n",
      "3. Product Knowledge\n",
      "4. Analytical Thinking\n",
      "5. Customer Service\n",
      "\n",
      "Here is how your skills align with the recommended job titles:\n",
      "\n",
      "1. **Sales Manager**:\n",
      "   - **Skill Alignment**: Your verbal communication, negotiation and persuasion, analytical thinking, and product knowledge skills make you a strong candidate for this role. As a sales manager, you will need to motivate your team and analyze sales data, which align with your skills.\n",
      "   - **Growth Opportunities**: To succeed as a sales manager, you'll likely need to develop strong leadership skills and emotional intelligence. Both of these areas offer opportunities for personal and professional growth.\n",
      "   - **Industry Trends**: Sales managers are in high demand in various industries, such as retail, finance, and software. Your existing skills will help you navigate these industries with ease.\n",
      "2. **Salesperson**:\n",
      "   - **Skill Alignment**: Similar to sales management, your current skills will serve you well in a salesperson role. Negotiation and persuasion skills, product knowledge, and excellent communication are all beneficial for a salesperson.\n",
      "   - **Growth Opportunities**: As a salesperson, you'll continue to develop your customer service, analytical thinking, and negotiation skills. These abilities will prepare you for future roles, such as a sales manager.\n",
      "   - **Industry Trends**: The demand for skilled salespeople is high across various industries, from pharmaceuticals to telecommunications. Your adaptable nature will facilitate your transition into this role.\n",
      "3. **Seasonal Sales Associate**:\n",
      "   - **Skill Alignment**: This role shares many similarities with the other sales jobs, focusing on verbal communication and product knowledge. While helpful, this role offers the least alignment with your other highlighted skills.\n",
      "   - **Growth Opportunities**: Given the temporary nature of seasonal roles, you might not have ample time to gain leadership or sales management experience. You could focus on perfecting areas like communication, persuasion, and product knowledge during this opportunity.\n",
      "   - **Industry Trends**: Based on consumer trends, demand for seasonal sales associates varies with seasonal sales, but skilled and flexible team members are consistently sought.\n",
      "\n",
      "The recommended job titles generally align with your profile strengths, especially in sales-related positions. Your key growth opportunities in these roles lie in leadership, analytical thinking, and negotiation skills, alongside communication and product knowledge. You would be most suited to career paths: sales manager or salesperson (or related divisions).\n"
     ]
    }
   ],
   "source": [
    "recommendation1 = recommendation_comparative(predicted_cluster, job_titles)\n",
    "\n",
    "print(\"--- Comparative Recommendation ---\")\n",
    "print(recommendation1)\n"
   ]
  },
  {
   "cell_type": "markdown",
   "id": "f76d567c-f395-43f7-acb8-98fb14d5ae3f",
   "metadata": {},
   "source": [
    "### Actionable Recommendation"
   ]
  },
  {
   "cell_type": "code",
   "execution_count": 11,
   "id": "1cf67e3c-0352-43f6-9e53-2e617cea83db",
   "metadata": {},
   "outputs": [
    {
     "name": "stdout",
     "output_type": "stream",
     "text": [
      "\n",
      "--- Actionable Recommendation ---\n",
      "Based on your skills and cluster 1, I have tailored a personalized job recommendation plan for you. Here's a customized approach to help you achieve your goal of becoming a sales professional:\n",
      "\n",
      "**Recommended Job Titles:**\n",
      "\n",
      "1. Sales Manager\n",
      "2. Salesperson\n",
      "3. Seasonal Sales Associate\n",
      "\n",
      "**Actionable Steps:**\n",
      "\n",
      "1. **Upskill**: Consider learning the following specific skills to better align with these roles:\n",
      "\t* Negotiation and persuasion techniques\n",
      "\t* Client communication and relationship-building\n",
      "\t* Sales forecasting and analytics\n",
      "\t* Product knowledge and market research\n",
      "\t* CRM software and sales automation tools\n",
      "2. **Network**: Connect with professionals in the following industries on platforms like LinkedIn:\n",
      "\t* Retail and e-commerce\n",
      "\t* Technology and software\n",
      "\t* Financial services and banking\n",
      "3. **Tailor Your Resume**: Highlight your experience in the following areas to stand out for these roles:\n",
      "\t* Sales experience (if you have any)\n",
      "\t* Customer service and communication skills\n",
      "\t* Team collaboration and leadership abilities\n",
      "\t* Problem-solving and analytical skills\n",
      "4. **Apply Strategically**: Focus on companies like these that value your skill set:\n",
      "\t* Amazon\n",
      "\t* Apple\n",
      "\t* Coca-Cola\n",
      "\t* Salesforce\n",
      "\t* IBM\n",
      "\n",
      "Additionally, consider the following industries and companies that are known for their strong sales cultures:\n",
      "\n",
      "* Insurance companies like State Farm and Allstate\n",
      "* Pharmaceutical companies like Pfizer and Johnson & Johnson\n",
      "* Technology companies like Google and Microsoft\n",
      "* Automotive companies like Ford and Toyota\n",
      "\n",
      "To increase your chances of landing your desired role, focus on the skills that are most in demand in these industries and tailor your resume and cover letter to highlight those strengths. Networking with professionals in these fields can also provide valuable insights and advice on how to succeed in sales.\n"
     ]
    }
   ],
   "source": [
    "recommendation2 = recommendation_actionable(predicted_cluster, job_titles)\n",
    "print(\"\\n--- Actionable Recommendation ---\")\n",
    "print(recommendation2)\n"
   ]
  },
  {
   "cell_type": "markdown",
   "id": "d19da855-3c6a-40e7-9c14-4a103d1a1996",
   "metadata": {},
   "source": [
    "# Explanation"
   ]
  },
  {
   "cell_type": "markdown",
   "id": "8974b101-2989-47f8-8e20-6fb0d00851a9",
   "metadata": {},
   "source": [
    "# Difference between the two templates"
   ]
  },
  {
   "cell_type": "markdown",
   "id": "c47e774b-2e9f-4c5b-ae22-88c15e42d41e",
   "metadata": {},
   "source": [
    "<div style=\"font-family: 'Times New Roman', Times, serif; font-size: 18px;\">\n",
    "The Comparative Template provides a detailed comparison between the user's current skills and the recommended job titles, highlighting skill alignment, growth opportunities, and industry trends. It explains how the user's existing skills match the requirements of the recommended roles, identifies areas for skill development, and discusses the industries where these roles are in demand. This template is ideal for users who are exploring career options and need to understand why the recommended roles are a good fit for their profile.\n",
    "<br><br>\n",
    "The Actionable Template offers a step-by-step guide for users to pursue the recommended job titles, focusing on upskilling, networking, tailoring their resume, and applying strategically. It provides specific advice on what skills to learn, how to connect with professionals, how to highlight relevant experience, and which companies or platforms to target. This template is best for users who are ready to take action and need practical, concrete steps to achieve their career goals.\n",
    "<br><br>\n",
    "The best template depends on the user's needs: the Comparative Template is ideal for early-stage career exploration, as it helps users understand their fit with recommended roles, while the Actionable Template is better for late-stage job seekers who need a clear roadmap to pursue those roles. However, combining both templates can provide the most value, offering users both the why (understanding their fit) and the how (taking actionable steps) to achieve their career goals.\n",
    "\n",
    "</div>"
   ]
  },
  {
   "cell_type": "markdown",
   "id": "a27863bb-ca96-43a7-9480-90960b5a196d",
   "metadata": {},
   "source": [
    "# Interactive Job Recommendation System "
   ]
  },
  {
   "cell_type": "markdown",
   "id": "372d104c-373b-44f5-a793-ba64833bef33",
   "metadata": {},
   "source": [
    "<div style=\"font-family: 'Times New Roman', Times, serif; font-size: 18px;\"> In this section, we will enhance the system’s interactivity by allowing users to input their skills and experience level directly in natural text format. Based on this input, the system will process the data and generate personalized job recommendations that align with the user’s skills and experience.\n",
    "<br><br>\n",
    "To add more value, the system will provide a detailed comparative analysis of the recommended jobs. This analysis will include key job requirements, salary ranges for entry, mid, and senior levels, growth potential, recommended certifications, and market demand—tailored to the user’s skill set and experience level.\n",
    "<br><br>\n",
    "Additionally, the system will offer a career action plan, providing specific steps to help users close any skill gaps, pursue relevant certifications, and optimize their job search. It will also include practical advice on improving the user’s resume, LinkedIn profile, and interview preparation.\n",
    "<br><br>\n",
    "To enhance the user experience, we will integrate the grouped dataset alongside the transformed dataset, allowing users to input their skills in a natural text format. This will ensure that the system can match user input to the available skills in a more intuitive and user-friendly way, making the process smoother and more accessible.</div>"
   ]
  },
  {
   "cell_type": "code",
   "execution_count": 10,
   "id": "ed8aa479-28b2-4e90-be3c-6f844c8a20aa",
   "metadata": {},
   "outputs": [
    {
     "name": "stdout",
     "output_type": "stream",
     "text": [
      "\n",
      "==================================================\n",
      "           AI JOB RECOMMENDATION SYSTEM           \n",
      "==================================================\n",
      "\n",
      "Please enter your skills (comma separated):\n",
      "Example: python, data analysis, machine learning\n",
      "\n",
      "Common skills in our system: can-do attitude, cost tracking, user-centric approach, training, new business development representativesales, multilingual communication, finance specialist - channel  customer marketingsap, marketing strategies, self-directed, follow-up...\n",
      "\n"
     ]
    },
    {
     "name": "stdin",
     "output_type": "stream",
     "text": [
      "Your skills:  leadership , urgency , data analysis , english\n",
      "Your experience level (1-5):  5\n"
     ]
    },
    {
     "name": "stdout",
     "output_type": "stream",
     "text": [
      "\n",
      "==================================================\n",
      "               TOP RECOMMENDATIONS                \n",
      "1. business development manager\n",
      "2. business development representative\n",
      "3. finance manager\n",
      "\n",
      "==================================================\n",
      "                  JOB COMPARISON                  \n",
      "Here are the job comparisons with key details:\n",
      "\n",
      "**Business Development Manager**\n",
      "\n",
      "1. Key Requirements:\n",
      "\t* Strong leadership and management skills\n",
      "\t* Ability to analyze data to drive business decisions\n",
      "\t* Excellent communication and presentation skills\n",
      "2. Salary Range:\n",
      "\t* Entry-level: $60,000 - $80,000 per year\n",
      "\t* Mid-level: $80,000 - $110,000 per year\n",
      "\t* Senior-level: $110,000 - $140,000 per year\n",
      "3. Growth Potential:\n",
      "\t* Next 2 career steps: Senior Business Development Manager, General Manager\n",
      "4. Best Certification:\n",
      "\t* Certified Business Development Professional (CBDP) by the Association of Professional Consultants (APC)\n",
      "5. Current Market Demand: High\n",
      "\n",
      "**Business Development Representative**\n",
      "\n",
      "1. Key Requirements:\n",
      "\t* Strong communication and interpersonal skills\n",
      "\t* Ability to analyze data to identify sales opportunities\n",
      "\t* Strong work ethic and ability to work in a fast-paced environment\n",
      "2. Salary Range:\n",
      "\t* Entry-level: $40,000 - $60,000 per year\n",
      "\t* Mid-level: $60,000 - $80,000 per year\n",
      "\t* Senior-level: $80,000 - $100,000 per year\n",
      "3. Growth Potential:\n",
      "\t* Next 2 career steps: Business Development Manager, Account Manager\n",
      "4. Best Certification:\n",
      "\t* Certified Sales Professional (CSP) by the National Association of Sales Professionals (NASP)\n",
      "5. Current Market Demand: Medium\n",
      "\n",
      "**Finance Manager**\n",
      "\n",
      "1. Key Requirements:\n",
      "\t* Strong analytical and problem-solving skills\n",
      "\t* Ability to interpret financial data and make informed decisions\n",
      "\t* Strong communication and leadership skills\n",
      "2. Salary Range:\n",
      "\t* Entry-level: $50,000 - $70,000 per year\n",
      "\t* Mid-level: $70,000 - $90,000 per year\n",
      "\t* Senior-level: $90,000 - $120,000 per year\n",
      "3. Growth Potential:\n",
      "\t* Next 2 career steps: Financial Controller, Chief Financial Officer\n",
      "4. Best Certification:\n",
      "\t* Certified Public Accountant (CPA) by the American Institute of Certified Public Accountants (AICPA)\n",
      "5. Current Market Demand: Medium\n",
      "\n",
      "Note: Salary ranges and growth potential may vary depending on location, industry, and company size.\n",
      "\n",
      "==================================================\n",
      "                CAREER ACTION PLAN                \n",
      "Based on the user's current skills and target jobs, here are some actionable career advice with specific steps:\n",
      "\n",
      "**Business Development Manager:**\n",
      "\n",
      "1. Skill Development:\n",
      "\t* Critical skill gap: Industry knowledge and market analysis\n",
      "\t* Recommended learning resource: \"Business Development and Competitive Intelligence\" course on Coursera\n",
      "2. Career Moves:\n",
      "\t* Best certification to pursue: Certified Business Development Professional (CBDP) offered by the Business Development Institute\n",
      "\t* Valuable professional network to join: Business Development Association (BDA) or National Association of Business Development Officers (NABDO)\n",
      "3. Job Search:\n",
      "\t* Optimal job platforms: LinkedIn, Indeed, and Glassdoor\n",
      "\t* Resume improvement tip: Highlight achievements and results instead of just listing responsibilities, and include relevant metrics and statistics\n",
      "\n",
      "**Business Development Representative:**\n",
      "\n",
      "1. Skill Development:\n",
      "\t* Critical skill gap: CRM software expertise (e.g., Salesforce)\n",
      "\t* Recommended learning resource: \"Salesforce Administrator\" certification course on Trailhead\n",
      "2. Career Moves:\n",
      "\t* Best certification to pursue: Certified Sales Representative (CSR) offered by the National Association of Sales Professionals (NASP)\n",
      "\t* Valuable professional network to join: American Association of Inside Sales Professionals (AAISP) or National Association of Sales Professionals (NASP)\n",
      "3. Job Search:\n",
      "\t* Optimal job platforms: LinkedIn, Indeed, and Glassdoor\n",
      "\t* Resume improvement tip: Emphasize your ability to build relationships and communicate effectively, and include any relevant sales or customer service experience\n",
      "\n",
      "**Finance Manager:**\n",
      "\n",
      "1. Skill Development:\n",
      "\t* Critical skill gap: Financial modeling and accounting expertise\n",
      "\t* Recommended learning resource: \"Financial Modeling and Valuation\" course on edX\n",
      "2. Career Moves:\n",
      "\t* Best certification to pursue: Certified Public Accountant (CPA) or Chartered Financial Analyst (CFA) designation\n",
      "\t* Valuable professional network to join: Financial Executives International (FEI) or Institute of Management Accountants (IMA)\n",
      "3. Job Search:\n",
      "\t* Optimal job platforms: Indeed, Glassdoor, and FinancialJobsWeb\n",
      "\t* Resume improvement tip: Highlight your financial analysis and planning skills, and include any relevant experience with financial software (e.g., Excel, QuickBooks)\n",
      "\n",
      "In general, here are some additional tips that apply to all three roles:\n",
      "\n",
      "* Develop a strong online presence by creating a professional LinkedIn profile and engaging with relevant professionals and content\n",
      "* Network with people in your desired field and attend industry events or conferences to learn more about the job and make connections\n",
      "* Tailor your resume and cover letter to each job you apply for, highlighting the skills and experiences that are most relevant to the position\n",
      "* Practice your interview skills by conducting mock interviews with friends or a career counselor, and be prepared to talk about your achievements and experiences in detail\n"
     ]
    }
   ],
   "source": [
    "import pandas as pd\n",
    "import numpy as np\n",
    "import pickle\n",
    "import os\n",
    "from groq import Groq\n",
    "import warnings\n",
    "warnings.filterwarnings(\"ignore\")\n",
    "\n",
    "# Load datasets and models\n",
    "transformed_df = pd.read_csv('Dataset/transformed_job_dataset.csv')\n",
    "grouped_data = pd.read_csv('Dataset/grouped_data.csv')\n",
    "KmeansModel = pickle.load(open('KmeansModel.sav', 'rb'))\n",
    "\n",
    "# Set up Groq API\n",
    "os.environ[\"GROQ_API_KEY\"] = \"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\"\n",
    "\n",
    "def get_user_input():\n",
    "    \"\"\"Get user skills in natural language and convert to model format\"\"\"\n",
    "    print(\"\\n\" + \"=\"*50)\n",
    "    print(\"AI JOB RECOMMENDATION SYSTEM\".center(50))\n",
    "    print(\"=\"*50)\n",
    "    \n",
    "    # Get all skills from the dataset\n",
    "    all_skills = set()\n",
    "    for skills in grouped_data['job_title'].str.cat(grouped_data['job_skill_set']).str.lower().str.split(','):\n",
    "        all_skills.update(s.strip() for s in skills if isinstance(s, str))\n",
    "    \n",
    "    print(\"\\nPlease enter your skills (comma separated):\")\n",
    "    print(f\"Example: python, data analysis, machine learning\\n\")\n",
    "    print(f\"Common skills in our system: {', '.join(list(all_skills)[:10])}...\\n\")\n",
    "    \n",
    "    # Get user input\n",
    "    user_skills_input = input(\"Your skills: \").lower()\n",
    "    category = int(input(\"Your experience level (1-5): \"))\n",
    "    \n",
    "    # Convert to numeric format\n",
    "    input_data = {\n",
    "        'category': category,\n",
    "        'desc_0': 1 if 'python' in user_skills_input else 0,\n",
    "        'desc_1': 1 if 'sql' in user_skills_input else 0,\n",
    "        'desc_2': 1 if 'machine learning' in user_skills_input else 0,\n",
    "        'desc_3': 1 if 'leadership' in user_skills_input else 0,\n",
    "        'desc_4': 1 if 'communication' in user_skills_input else 0\n",
    "    }\n",
    "    \n",
    "    # Ensure all required columns are present\n",
    "    for col in transformed_df.columns:\n",
    "        if col != 'job_title' and col not in input_data:\n",
    "            input_data[col] = 0\n",
    "    \n",
    "    return pd.Series(input_data), user_skills_input\n",
    "\n",
    "def find_job_cluster(input_data):\n",
    "    \"\"\"Find the cluster for the user's input data\"\"\"\n",
    "    pred = KmeansModel.predict(np.array(input_data).reshape(1, -1))\n",
    "    return pred[0]\n",
    "\n",
    "def get_recommendations(predicted_cluster):\n",
    "    \"\"\"Get job recommendations based on cluster\"\"\"\n",
    "    job_titles = grouped_data[grouped_data['group_labels'] == predicted_cluster]\n",
    "    return job_titles['job_title'].value_counts().head(3).index.tolist()\n",
    "\n",
    "def generate_comparative_analysis(job_titles, user_skills, cluster):\n",
    "    \"\"\"Generate balanced comparative analysis\"\"\"\n",
    "    client = Groq(api_key=os.environ.get(\"GROQ_API_KEY\"))\n",
    "    \n",
    "    response = client.chat.completions.create(\n",
    "        model=\"llama3-8b-8192\",\n",
    "        messages=[\n",
    "            {\"role\": \"system\", \"content\": \"Provide clear, concise job comparisons with key details.\"},\n",
    "            {\"role\": \"user\", \"content\": f\"\"\"\n",
    "            User Profile:\n",
    "            - Skills: {user_skills}\n",
    "            - Experience Level: {cluster}\n",
    "            \n",
    "            Recommended Jobs: {', '.join(job_titles)}\n",
    "            \n",
    "            For each job, provide:\n",
    "            1. Key Requirements (2-3 most important)\n",
    "            2. Salary Range (entry to senior)\n",
    "            3. Growth Potential (next 2 career steps)\n",
    "            4. Best Certification (1 most valuable)\n",
    "            5. Current Market Demand (High/Medium/Low)\n",
    "            \"\"\"}\n",
    "        ],\n",
    "        temperature=0.7,\n",
    "        max_tokens=600\n",
    "    )\n",
    "    return response.choices[0].message.content\n",
    "\n",
    "def generate_actionable_steps(job_titles, user_skills, cluster):\n",
    "    \"\"\"Generate practical action plan\"\"\"\n",
    "    client = Groq(api_key=os.environ.get(\"GROQ_API_KEY\"))\n",
    "    \n",
    "    response = client.chat.completions.create(\n",
    "        model=\"llama3-8b-8192\",\n",
    "        messages=[\n",
    "            {\"role\": \"system\", \"content\": \"Provide actionable career advice with specific steps.\"},\n",
    "            {\"role\": \"user\", \"content\": f\"\"\"\n",
    "            User Profile:\n",
    "            - Current Skills: {user_skills}\n",
    "            - Target Jobs: {', '.join(job_titles)}\n",
    "            \n",
    "            For each job, suggest:\n",
    "            1. Skill Development:\n",
    "               - 1 critical skill gap to address\n",
    "               - Recommended learning resource\n",
    "            2. Career Moves:\n",
    "               - Best certification to pursue\n",
    "               - Valuable professional network to join\n",
    "            3. Job Search:\n",
    "               - Optimal job platforms\n",
    "               - Resume improvement tip\n",
    "            \"\"\"}\n",
    "        ],\n",
    "        temperature=0.7,\n",
    "        max_tokens=600\n",
    "    )\n",
    "    return response.choices[0].message.content\n",
    "\n",
    "def main():\n",
    "    # Get user input\n",
    "    input_data, user_skills = get_user_input()\n",
    "    \n",
    "    # Generate recommendations\n",
    "    cluster = find_job_cluster(input_data)\n",
    "    recommendations = get_recommendations(cluster)\n",
    "    \n",
    "    print(\"\\n\" + \"=\"*50)\n",
    "    print(\"TOP RECOMMENDATIONS\".center(50))\n",
    "    for i, job in enumerate(recommendations, 1):\n",
    "        print(f\"{i}. {job}\")\n",
    "    \n",
    "    # Generate AI insights\n",
    "    print(\"\\n\" + \"=\"*50)\n",
    "    print(\"JOB COMPARISON\".center(50))\n",
    "    print(generate_comparative_analysis(recommendations, user_skills, cluster))\n",
    "    \n",
    "    print(\"\\n\" + \"=\"*50)\n",
    "    print(\"CAREER ACTION PLAN\".center(50))\n",
    "    print(generate_actionable_steps(recommendations, user_skills, cluster))\n",
    "\n",
    "if __name__ == \"__main__\":\n",
    "    main()"
   ]
  },
  {
   "cell_type": "code",
   "execution_count": null,
   "id": "2a0339b8-1e62-4f4e-ae02-c5ab41e6507f",
   "metadata": {},
   "outputs": [],
   "source": []
  }
 ],
 "metadata": {
  "kernelspec": {
   "display_name": "Python 3 (ipykernel)",
   "language": "python",
   "name": "python3"
  },
  "language_info": {
   "codemirror_mode": {
    "name": "ipython",
    "version": 3
   },
   "file_extension": ".py",
   "mimetype": "text/x-python",
   "name": "python",
   "nbconvert_exporter": "python",
   "pygments_lexer": "ipython3",
   "version": "3.11.6"
  }
 },
 "nbformat": 4,
 "nbformat_minor": 5
}
